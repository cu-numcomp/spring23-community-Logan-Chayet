{
 "cells": [
  {
   "cell_type": "markdown",
   "id": "9f599065",
   "metadata": {},
   "source": [
    "---\n",
    "\n",
    "# CSCI 3656, Spring 2023\n",
    "# Final Project\n",
    "## FILM: Frame Interpolation for Large Motion\n"
   ]
  },
  {
   "cell_type": "markdown",
   "id": "e3558c07",
   "metadata": {},
   "source": [
    "FILM (Frame Interpolation for Large Motion) is a Python based software that takes two images and using interpolation combines them into a moving image. The process utilizes a neural network of data corresponding to both images that train to match the start image with the target image."
   ]
  },
  {
   "cell_type": "markdown",
   "id": "1b73f1c2",
   "metadata": {},
   "source": [
    "# What I learned:\n",
    "    This software was created to solve the problem of large motion interpolation between two images. The creators state that similar software developed recently had trouble interpolating two images that had large motion between the images taken.\n",
    "    So with the use of a neural training network, these developers created a way to interpolate two images with large motion that still produce a clear image. As compared to the other competitors, the image came out more clear without artifacting on the edges. \n",
    "An image from their paper is shown:\n",
    "    \n"
   ]
  },
  {
   "attachments": {},
   "cell_type": "markdown",
   "id": "b8e67388",
   "metadata": {},
   "source": [
    "<!-- ![Screen%20Shot%202023-04-04%20at%207.47.29%20PM.png](attachment:Screen%20Shot%202023-04-04%20at%207.47.29%20PM.png) -->\n",
    "<div>\n",
    "<img src=\"compare.jpeg\" width=\"500\"/>\n",
    "</div>"
   ]
  },
  {
   "cell_type": "markdown",
   "id": "3fd42bf7",
   "metadata": {},
   "source": [
    "    A way that they achieved this large motion interpolation is through feature extractor that employs a weight heursitic. How this is achieved is that they have weights in which pixels will travel during interpolation. These weights are assigned based on the travel length it takes to predict and create a new image. The key here is that they treat small jumps and large jumps (small/large motion) as the same weight to produce a more precise image. "
   ]
  },
  {
   "cell_type": "markdown",
   "id": "e7b821e3",
   "metadata": {},
   "source": [
    "# Examples:\n",
    "### Let's take a look at an example I created using their software:"
   ]
  },
  {
   "cell_type": "code",
   "execution_count": 8,
   "id": "fe21a911",
   "metadata": {},
   "outputs": [
    {
     "data": {
      "text/html": [
       "\n",
       "<video width=\"900\" height=\"300\" controls>\n",
       "  <source src=\"out.mp4\" type=\"video/mp4\">\n",
       "</video>\n"
      ],
      "text/plain": [
       "<IPython.core.display.HTML object>"
      ]
     },
     "execution_count": 8,
     "metadata": {},
     "output_type": "execute_result"
    }
   ],
   "source": [
    "from IPython.display import HTML\n",
    "\n",
    "HTML(\"\"\"\n",
    "<video width=\"900\" height=\"300\" controls>\n",
    "  <source src=\"out.mp4\" type=\"video/mp4\">\n",
    "</video>\n",
    "\"\"\")"
   ]
  },
  {
   "cell_type": "markdown",
   "id": "fe443a7d",
   "metadata": {},
   "source": [
    "The two original images:"
   ]
  },
  {
   "cell_type": "markdown",
   "id": "9a47d5f7",
   "metadata": {},
   "source": [
    "<div>\n",
    "<img src=\"one.jpeg\" width=\"300\"/>\n",
    "\n",
    "<img src=\"two.jpeg\" width=\"300\"/>\n",
    "</div>"
   ]
  },
  {
   "cell_type": "markdown",
   "id": "e3f8723e",
   "metadata": {},
   "source": [
    "### And now let's see their created example:"
   ]
  },
  {
   "cell_type": "code",
   "execution_count": 9,
   "id": "fa35c858",
   "metadata": {},
   "outputs": [
    {
     "data": {
      "text/html": [
       "\n",
       "<video width=\"900\" height=\"300\" controls>\n",
       "  <source src=\"out2.mp4\" type=\"video/mp4\">\n",
       "</video>\n"
      ],
      "text/plain": [
       "<IPython.core.display.HTML object>"
      ]
     },
     "execution_count": 9,
     "metadata": {},
     "output_type": "execute_result"
    }
   ],
   "source": [
    "from IPython.display import HTML\n",
    "\n",
    "HTML(\"\"\"\n",
    "<video width=\"900\" height=\"300\" controls>\n",
    "  <source src=\"out2.mp4\" type=\"video/mp4\">\n",
    "</video>\n",
    "\"\"\")"
   ]
  },
  {
   "cell_type": "markdown",
   "id": "46b89596",
   "metadata": {},
   "source": [
    "The two original images:"
   ]
  },
  {
   "cell_type": "markdown",
   "id": "7fd09a52",
   "metadata": {},
   "source": [
    "<div>\n",
    "<img src=\"1.png\" width=\"300\"/>\n",
    "\n",
    "<img src=\"2.png\" width=\"300\"/>\n",
    "</div>"
   ]
  },
  {
   "cell_type": "markdown",
   "id": "9d391b02",
   "metadata": {},
   "source": [
    "# Question:\n",
    "What are the limitations of this interpolation, being can completely different images be put in and produce a viable product?  \n",
    "\n",
    "Are there ways to alter this interpolation method to make it behave differnetly then intended? Can we add effects to images (bluriness, discoloration, artifacting) on purpose?"
   ]
  },
  {
   "cell_type": "markdown",
   "id": "d6ea922c",
   "metadata": {},
   "source": [
    "# Experiment:\n",
    "I think a cool experiment to do is as we change the interpolationa algorithm to run slower or change the heuristic, how much artifacting would we see or in other words how would the error increase based on where the pixels go and where they are supposed to go."
   ]
  }
 ],
 "metadata": {
  "kernelspec": {
   "display_name": "Python 3 (ipykernel)",
   "language": "python",
   "name": "python3"
  },
  "language_info": {
   "codemirror_mode": {
    "name": "ipython",
    "version": 3
   },
   "file_extension": ".py",
   "mimetype": "text/x-python",
   "name": "python",
   "nbconvert_exporter": "python",
   "pygments_lexer": "ipython3",
   "version": "3.9.7"
  }
 },
 "nbformat": 4,
 "nbformat_minor": 5
}
